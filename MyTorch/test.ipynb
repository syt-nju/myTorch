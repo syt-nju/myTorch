{
 "cells": [
  {
   "cell_type": "code",
   "execution_count": 1,
   "metadata": {},
   "outputs": [],
   "source": [
    "#测试Exp算子\n",
    "import MyTensor\n",
    "import numpy as np\n",
    "from utils.utils import myAssert\n",
    "\n",
    "for i in range(1000):\n",
    "    a=MyTensor.MyTensor(np.random.rand(2,3),requires_grad=True)\n",
    "    Exp=MyTensor.Exp()\n",
    "    b = Exp.forward(a)\n",
    "    b.backward()\n",
    "    myAssert((b.data== a.grad).all(), \"something wrong with Exp\",b.data,a.grad)"
   ]
  },
  {
   "cell_type": "code",
   "execution_count": null,
   "metadata": {},
   "outputs": [],
   "source": [
    "#简单测试Log\n",
    "a=MyTensor.MyTensor(np.array([[1,2,3],[4,5,6]]),requires_grad=True)\n",
    "Log=MyTensor.Log()\n",
    "b = Log.forward(a)\n",
    "b.backward()\n",
    "print(b.data)\n",
    "print(a.grad)\n",
    "print(1/a.data)"
   ]
  },
  {
   "cell_type": "code",
   "execution_count": 3,
   "metadata": {},
   "outputs": [],
   "source": [
    "\n",
    "#测试Log算子\n",
    "import MyTensor\n",
    "import numpy as np\n",
    "from utils.utils import myAssert\n",
    "for i in range(1000):\n",
    "    a=MyTensor.MyTensor(np.random.rand(1,10),requires_grad=True)\n",
    "    Log=MyTensor.Log()\n",
    "    b = Log.forward(a)\n",
    "    b.backward()\n",
    "    myAssert((a.grad==1/a.data).all(), \"something wrong with Log\",b.data,a.grad,a.data)"
   ]
  },
  {
   "cell_type": "code",
   "execution_count": 2,
   "metadata": {},
   "outputs": [
    {
     "name": "stdout",
     "output_type": "stream",
     "text": [
      "[1.2804597  0.85885145 1.13250734]\n",
      "[[1. 1. 1.]\n",
      " [1. 1. 1.]]\n"
     ]
    }
   ],
   "source": [
    "#测试SumUnary算子\n",
    "from MyTensor import MyTensor,SumUnary\n",
    "import numpy as np\n",
    "a=MyTensor(np.random.rand(2,3),requires_grad=True)\n",
    "Sum=SumUnary(axis=0)\n",
    "b = Sum.forward(a)\n",
    "b.backward()\n",
    "print(b.data)\n",
    "print(a.grad)\n"
   ]
  },
  {
   "cell_type": "code",
   "execution_count": 2,
   "metadata": {},
   "outputs": [
    {
     "name": "stdout",
     "output_type": "stream",
     "text": [
      "[[0.5 1.  1.5]\n",
      " [2.  2.5 3. ]]\n",
      "[[0.5 0.5 0.5]\n",
      " [0.5 0.5 0.5]]\n",
      "[[-0.25 -0.5  -0.75]\n",
      " [-1.   -1.25 -1.5 ]]\n"
     ]
    }
   ],
   "source": [
    "#测试div算子\n",
    "from MyTensor import MyTensor,Div\n",
    "import numpy as np\n",
    "a=MyTensor(np.array([[1,2,3],[4,5,6]]),requires_grad=True)\n",
    "b=MyTensor(np.array([[2,2,2],[2,2,2]]),requires_grad=True)\n",
    "Div=Div()\n",
    "c = Div.forward(a,b)\n",
    "c.backward()\n",
    "print(c.data)\n",
    "print(a.grad)\n",
    "print(b.grad)\n"
   ]
  }
 ],
 "metadata": {
  "kernelspec": {
   "display_name": "pytor-basic",
   "language": "python",
   "name": "python3"
  },
  "language_info": {
   "codemirror_mode": {
    "name": "ipython",
    "version": 3
   },
   "file_extension": ".py",
   "mimetype": "text/x-python",
   "name": "python",
   "nbconvert_exporter": "python",
   "pygments_lexer": "ipython3",
   "version": "3.11.4"
  }
 },
 "nbformat": 4,
 "nbformat_minor": 2
}
