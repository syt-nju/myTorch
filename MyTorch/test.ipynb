{
 "cells": [
  {
   "cell_type": "code",
   "execution_count": 1,
   "metadata": {},
   "outputs": [],
   "source": [
    "#测试Exp算子\n",
    "import MyTensor\n",
    "import numpy as np\n",
    "from utils.utils import myAssert\n",
    "\n",
    "for i in range(1000):\n",
    "    a=MyTensor.MyTensor(np.random.rand(2,3),requires_grad=True)\n",
    "    Exp=MyTensor.Exp()\n",
    "    b = Exp.forward(a)\n",
    "    b.backward()\n",
    "    myAssert((b.data== a.grad).all(), \"something wrong with Exp\",b.data,a.grad)"
   ]
  },
  {
   "cell_type": "code",
   "execution_count": 2,
   "metadata": {},
   "outputs": [
    {
     "name": "stdout",
     "output_type": "stream",
     "text": [
      "[[0.         0.69314718 1.09861229]\n",
      " [1.38629436 1.60943791 1.79175947]]\n",
      "[[1.         0.5        0.33333333]\n",
      " [0.25       0.2        0.16666667]]\n",
      "[[1.         0.5        0.33333333]\n",
      " [0.25       0.2        0.16666667]]\n"
     ]
    }
   ],
   "source": [
    "#简单测试Log\n",
    "a=MyTensor.MyTensor(np.array([[1,2,3],[4,5,6]]),requires_grad=True)\n",
    "Log=MyTensor.Log()\n",
    "b = Log.forward(a)\n",
    "b.backward()\n",
    "print(b.data)\n",
    "print(a.grad)\n",
    "print(1/a.data)"
   ]
  },
  {
   "cell_type": "code",
   "execution_count": 3,
   "metadata": {},
   "outputs": [],
   "source": [
    "\n",
    "#测试Log算子\n",
    "import MyTensor\n",
    "import numpy as np\n",
    "from utils.utils import myAssert\n",
    "for i in range(1000):\n",
    "    a=MyTensor.MyTensor(np.random.rand(1,10),requires_grad=True)\n",
    "    Log=MyTensor.Log()\n",
    "    b = Log.forward(a)\n",
    "    b.backward()\n",
    "    myAssert((a.grad==1/a.data).all(), \"something wrong with Log\",b.data,a.grad,a.data)"
   ]
  }
 ],
 "metadata": {
  "kernelspec": {
   "display_name": "pytor-basic",
   "language": "python",
   "name": "python3"
  },
  "language_info": {
   "codemirror_mode": {
    "name": "ipython",
    "version": 3
   },
   "file_extension": ".py",
   "mimetype": "text/x-python",
   "name": "python",
   "nbconvert_exporter": "python",
   "pygments_lexer": "ipython3",
   "version": "3.11.4"
  }
 },
 "nbformat": 4,
 "nbformat_minor": 2
}
