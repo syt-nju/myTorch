{
 "cells": [
  {
   "cell_type": "code",
   "execution_count": 1,
   "metadata": {},
   "outputs": [],
   "source": [
    "import sys \n",
    "import os\n",
    "# 获取当前工作目录\n",
    "current_dir = os.getcwd()\n",
    "\n",
    "# 获取上级目录\n",
    "parent_dir = os.path.abspath(os.path.join(current_dir, '..'))\n",
    "if parent_dir not in sys.path:\n",
    "    sys.path.insert(0, parent_dir)"
   ]
  },
  {
   "cell_type": "code",
   "execution_count": 2,
   "metadata": {},
   "outputs": [
    {
     "name": "stdout",
     "output_type": "stream",
     "text": [
      "[[ 2.  4.  6.]\n",
      " [ 8. 10. 12.]]\n",
      "[[1. 1. 1.]\n",
      " [1. 1. 1.]]\n"
     ]
    }
   ],
   "source": [
    "from MyTorch_v2.myTensor import MyTensor,Add\n",
    "import numpy as np\n",
    "#构造两个2*3的张量\n",
    "a = MyTensor(np.array([[1,2,3],[4,5,6]]),requires_grad=True)\n",
    "b= MyTensor(np.array([[1,2,3],[4,5,6]]))\n",
    "c=Add.forward(a,b)\n",
    "print(c.data)\n",
    "c.backward()\n",
    "print(a.grad)"
   ]
  },
  {
   "cell_type": "code",
   "execution_count": 3,
   "metadata": {},
   "outputs": [
    {
     "name": "stdout",
     "output_type": "stream",
     "text": [
      "[[0. 0. 0.]\n",
      " [0. 0. 0.]]\n",
      "[[1. 1. 1.]\n",
      " [1. 1. 1.]]\n",
      "[[-1. -1. -1.]\n",
      " [-1. -1. -1.]]\n"
     ]
    }
   ],
   "source": [
    "#test for sub\n",
    "from MyTorch_v2.myTensor import Sub\n",
    "a = MyTensor(np.array([[1,2,3],[4,5,6]]),requires_grad=True)\n",
    "b= MyTensor(np.array([[1,2,3],[4,5,6]]),requires_grad=True)\n",
    "c=Sub.forward(a,b)\n",
    "print(c.data)\n",
    "c.backward()\n",
    "print(a.grad)\n",
    "print(b.grad)"
   ]
  },
  {
   "cell_type": "code",
   "execution_count": 4,
   "metadata": {},
   "outputs": [
    {
     "name": "stdout",
     "output_type": "stream",
     "text": [
      "[[ 1.  4.  9.]\n",
      " [ 4. 10. 18.]]\n",
      "[[1. 2. 3.]\n",
      " [1. 2. 3.]]\n",
      "[[1. 2. 3.]\n",
      " [4. 5. 6.]]\n"
     ]
    }
   ],
   "source": [
    "#test for mul\n",
    "from MyTorch_v2.myTensor import Mul\n",
    "a = MyTensor(np.array([[1,2,3],[4,5,6]]),requires_grad=True)\n",
    "b= MyTensor(np.array([[1,2,3],[1,2,3]]),requires_grad=True)\n",
    "c=Mul.forward(a,b)\n",
    "print(c.data)\n",
    "c.backward()\n",
    "print(a.grad)\n",
    "print(b.grad)\n"
   ]
  },
  {
   "cell_type": "code",
   "execution_count": 5,
   "metadata": {},
   "outputs": [
    {
     "name": "stdout",
     "output_type": "stream",
     "text": [
      "[[22. 28.]]\n",
      "[[ 3.  7. 11.]]\n",
      "[[1. 1.]\n",
      " [2. 2.]\n",
      " [3. 3.]]\n"
     ]
    }
   ],
   "source": [
    "#test for matmul\n",
    "from MyTorch_v2.myTensor import MatMul\n",
    "# a=MyTensor(np.array([[1,2,3],[4,5,6]]),requires_grad=True)\n",
    "# b=MyTensor(np.array([[1,2],[3,4],[5,6]]),requires_grad=True)\n",
    "# c=MatMul.forward(a,b)\n",
    "# # print(c.data)\n",
    "# c.backward()\n",
    "# # print(a.grad)\n",
    "# # print(b.grad)\n",
    "\n",
    "#test for one_dim_matmul\n",
    "a=MyTensor(np.array([[1,2,3]]),requires_grad=True)\n",
    "b=MyTensor(np.array([[1,2],[3,4],[5,6]]),requires_grad=True)\n",
    "c=MatMul.forward(a,b)\n",
    "print(c.data)\n",
    "c.backward()\n",
    "print(a.grad)\n",
    "print(b.grad)"
   ]
  },
  {
   "cell_type": "code",
   "execution_count": 6,
   "metadata": {},
   "outputs": [
    {
     "name": "stdout",
     "output_type": "stream",
     "text": [
      "[[1. 1. 1.]\n",
      " [1. 1. 1.]]\n",
      "[[1.         0.5        0.33333333]\n",
      " [0.25       0.2        0.16666667]]\n",
      "[[-1.         -0.5        -0.33333333]\n",
      " [-0.25       -0.2        -0.16666667]]\n"
     ]
    }
   ],
   "source": [
    "#test for div\n",
    "from MyTorch_v2.myTensor import Div\n",
    "a=MyTensor(np.array([[1,2,3],[4,5,6]]),requires_grad=True)\n",
    "b=MyTensor(np.array([[1,2,3],[4,5,6]]),requires_grad=True)\n",
    "c=Div.forward(a,b)\n",
    "print(c.data)\n",
    "c.backward()\n",
    "print(a.grad)\n",
    "print(b.grad)"
   ]
  }
 ],
 "metadata": {
  "kernelspec": {
   "display_name": "pytor-basic",
   "language": "python",
   "name": "python3"
  },
  "language_info": {
   "codemirror_mode": {
    "name": "ipython",
    "version": 3
   },
   "file_extension": ".py",
   "mimetype": "text/x-python",
   "name": "python",
   "nbconvert_exporter": "python",
   "pygments_lexer": "ipython3",
   "version": "3.11.4"
  }
 },
 "nbformat": 4,
 "nbformat_minor": 2
}
