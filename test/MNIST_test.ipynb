{
 "cells": [
  {
   "cell_type": "markdown",
   "metadata": {},
   "source": [
    "实验计划\n",
    "\n",
    "模型架构mlp+softmax多分类\n",
    "\n",
    "1.实现pytorch版,并且稍微调参\n",
    "\n",
    "2.复刻myTorch版\n",
    "\n",
    "3.基于myTorch做消融实验(优化器，初始化策略)"
   ]
  },
  {
   "cell_type": "code",
   "metadata": {
    "ExecuteTime": {
     "end_time": "2024-12-10T12:21:19.571283Z",
     "start_time": "2024-12-10T12:21:19.545775Z"
    }
   },
   "source": [
    "# 用于记录每个单元格的运行时间\n",
    "\n",
    "try:\n",
    "    %load_ext autotime\n",
    "except:\n",
    "    !pip install ipython-autotime\n",
    "    %load_ext autotime"
   ],
   "outputs": [
    {
     "name": "stdout",
     "output_type": "stream",
     "text": [
      "time: 0 ns (started: 2024-12-10 20:21:19 +08:00)\n"
     ]
    }
   ],
   "execution_count": 1
  },
  {
   "cell_type": "code",
   "execution_count": 2,
   "metadata": {},
   "outputs": [
    {
     "name": "stdout",
     "output_type": "stream",
     "text": [
      "/root/autodl-tmp/myTorch\n",
      "time: 1.85 ms (started: 2024-11-07 17:27:47 +08:00)\n"
     ]
    }
   ],
   "source": [
    "#把项目目录添加至环境变量\n",
    "import os\n",
    "import sys\n",
    "# 获取当前工作目录\n",
    "current_dir = os.getcwd()\n",
    "\n",
    "# 获取上级目录\n",
    "parent_dir = os.path.abspath(os.path.join(current_dir, '..'))\n",
    "print(parent_dir)\n",
    "if parent_dir not in sys.path:\n",
    "    sys.path.insert(0, parent_dir)\n",
    "\n"
   ]
  },
  {
   "cell_type": "code",
   "execution_count": null,
   "metadata": {},
   "outputs": [
    {
     "name": "stdout",
     "output_type": "stream",
     "text": [
      "time: 1.97 s (started: 2024-11-07 17:27:49 +08:00)\n"
     ]
    }
   ],
   "source": [
    "# 基于pytorch导入数据\n",
    "import torch\n",
    "from torchvision import datasets, transforms\n",
    "from torch.utils.data import random_split\n",
    "import MyTorch.Dataloader\n",
    "data_dir = \"../../dataset\"\n",
    "if not os.path.exists(data_dir):\n",
    "    os.makedirs(data_dir)"
   ]
  },
  {
   "cell_type": "code",
   "execution_count": 4,
   "metadata": {},
   "outputs": [
    {
     "name": "stdout",
     "output_type": "stream",
     "text": [
      "shape:torch.Size([60000, 28, 28])\n",
      "mean:33.31842041015625\n",
      "train_data: 54000\n",
      "val_data: 6000\n",
      "device:cuda\n",
      "time: 160 ms (started: 2024-11-07 17:27:51 +08:00)\n"
     ]
    }
   ],
   "source": [
    "\n",
    "data_transforms = transforms.Compose([\n",
    "    transforms.ToTensor(),  # 转换为Tensor\n",
    "    transforms.Normalize((0.5,), (0.5,)),  # 归一化，均值为0.5，标准差为0.5\n",
    "])\n",
    "# MNIST dataset\n",
    "train_data_full = datasets.MNIST(data_dir, train=True, download=True, transform=data_transforms)\n",
    "test_data = datasets.MNIST(data_dir, train=False, download=True, transform=data_transforms)\n",
    "\n",
    "print(f\"shape:{train_data_full.data.shape}\")\n",
    "print(f\"mean:{train_data_full.data.float().mean()}\")#pytorch dataset的transform只会在取数据进入model时调用，故此时print仍然是原始数据\n",
    "\n",
    "val_size = int(0.1 * len(train_data_full))\n",
    "train_data, val_data = random_split(train_data_full, [len(train_data_full) - val_size, val_size])\n",
    "print(\"train_data:\", len(train_data))\n",
    "print(\"val_data:\", len(val_data))\n",
    "\n",
    "device = torch.device(\"cuda\" if torch.cuda.is_available() else \"cpu\")\n",
    "print(f\"device:{device}\")\n"
   ]
  },
  {
   "cell_type": "code",
   "execution_count": 5,
   "metadata": {},
   "outputs": [
    {
     "name": "stdout",
     "output_type": "stream",
     "text": [
      "time: 1.34 ms (started: 2024-11-07 17:27:54 +08:00)\n"
     ]
    }
   ],
   "source": [
    "#定义固定参数\n",
    "input_size = 28 * 28\n",
    "num_classes = 10\n",
    "#定义超参\n",
    "batch_size = 64\n",
    "hidden_size = 128\n",
    "lr=0.1\n",
    "momentum = 0.9\n",
    "epochs = 10"
   ]
  },
  {
   "cell_type": "code",
   "execution_count": 6,
   "metadata": {},
   "outputs": [
    {
     "name": "stdout",
     "output_type": "stream",
     "text": [
      "time: 120 ms (started: 2024-11-07 17:27:56 +08:00)\n"
     ]
    }
   ],
   "source": [
    "# 构建model\n",
    "from torch import nn\n",
    "import torch.nn.init as init\n",
    "layer1=nn.Linear(input_size, hidden_size)\n",
    "init.kaiming_normal_(layer1.weight)\n",
    "layer2=nn.Linear(hidden_size, num_classes)\n",
    "init.kaiming_normal_(layer2.weight)\n",
    "model=torch.nn.Sequential(layer1,nn.ReLU(),layer2,nn.LogSoftmax(dim=1)).to(device)\n"
   ]
  },
  {
   "cell_type": "code",
   "execution_count": 7,
   "metadata": {},
   "outputs": [
    {
     "name": "stdout",
     "output_type": "stream",
     "text": [
      "time: 3.23 ms (started: 2024-11-07 17:27:58 +08:00)\n"
     ]
    }
   ],
   "source": [
    "def val_eval(model,val_loader):\n",
    "    model.eval()\n",
    "    correct = 0\n",
    "    total = 0\n",
    "    with torch.no_grad():\n",
    "        for images, labels in val_loader:\n",
    "            images = images.view(-1, 28 * 28)\n",
    "            images,labels=images.to(device),labels.to(device)\n",
    "            outputs = model(images)\n",
    "            _, predicted = torch.max(outputs.data, 1)\n",
    "            total += len(labels)\n",
    "            correct += (predicted == labels).sum().item()\n",
    "    acc=correct/total\n",
    "    print(f\"acc:{acc}\")\n",
    "    return acc"
   ]
  },
  {
   "cell_type": "code",
   "execution_count": 8,
   "metadata": {},
   "outputs": [
    {
     "name": "stdout",
     "output_type": "stream",
     "text": [
      "time: 158 ms (started: 2024-11-07 17:27:59 +08:00)\n"
     ]
    }
   ],
   "source": [
    "try:\n",
    "    import optuna\n",
    "except ModuleNotFoundError:\n",
    "    !pip install optuna\n",
    "    import optuna\n",
    "\n",
    "try:\n",
    "    import tqdm\n",
    "except ModuleNotFoundError:\n",
    "    !pip install tqdm\n",
    "    import tqdm"
   ]
  },
  {
   "cell_type": "code",
   "execution_count": 9,
   "metadata": {},
   "outputs": [
    {
     "name": "stdout",
     "output_type": "stream",
     "text": [
      "time: 4.84 ms (started: 2024-11-07 17:28:02 +08:00)\n"
     ]
    }
   ],
   "source": [
    "def obj(trails):\n",
    "    kwargs = {\n",
    "        \"hidden_size\": trails.suggest_int(\"hidden_size\", 32, 128),\n",
    "        \"batch_size\": trails.suggest_int(\"batch_size\", 64, 64),\n",
    "        \"lr\": trails.suggest_float(\"lr\", 0.001, 0.1),\n",
    "        \"momentum\": trails.suggest_float(\"momentum\", 0.5, 0.9),\n",
    "        epochs: trails.suggest_int(\"epochs\", 2,10 ),\n",
    "    }\n",
    "    layer1=nn.Linear(input_size, kwargs[\"hidden_size\"])\n",
    "    init.kaiming_normal_(layer1.weight)\n",
    "    layer2=nn.Linear(kwargs[\"hidden_size\"], num_classes)\n",
    "    init.kaiming_normal_(layer2.weight)\n",
    "    model=torch.nn.Sequential(layer1,nn.ReLU(),layer2,nn.LogSoftmax(dim=1)).to(device)\n",
    "\n",
    "    optimizer = torch.optim.SGD(model.parameters(), lr=kwargs[\"lr\"],weight_decay=0.01,momentum=kwargs[\"momentum\"])\n",
    "    criterion = nn.NLLLoss()\n",
    "    train_loader =torch.utils.data.DataLoader(train_data, batch_size=kwargs[\"batch_size\"], shuffle=True)\n",
    "    val_loader = torch.utils.data.DataLoader(val_data, batch_size=kwargs[\"batch_size\"], shuffle=False)\n",
    "    for epoch in range(kwargs[epochs]):\n",
    "        for i, (images, labels) in enumerate(train_loader):\n",
    "            images=images.view(-1,28*28)\n",
    "            images,labels=images.to(device),labels.to(device)\n",
    "            outputs = model(images)\n",
    "            loss = criterion(outputs, labels)\n",
    "            optimizer.zero_grad()\n",
    "            loss.backward()\n",
    "            optimizer.step()\n",
    "            if (i + 1) % 256 == 0:\n",
    "                print('Epcho [{}/{}], Step [{}/{}], Loss: {:.4f}'.format(epoch, kwargs[epochs], i + 1, len(train_loader), loss.item()))\n",
    "    return val_eval(model,val_loader)"
   ]
  },
  {
   "cell_type": "code",
   "execution_count": 10,
   "metadata": {},
   "outputs": [
    {
     "name": "stderr",
     "output_type": "stream",
     "text": [
      "  0%|          | 0/10 [00:00<?, ?it/s][I 2024-11-07 17:28:05,031] A new study created in memory with name: no-name-f841aeb3-fdcc-4d4d-b3ea-4b95729f65e6\n"
     ]
    },
    {
     "name": "stdout",
     "output_type": "stream",
     "text": [
      "Epcho [0/5], Step [256/844], Loss: 0.8550\n",
      "Epcho [0/5], Step [512/844], Loss: 0.7175\n",
      "Epcho [0/5], Step [768/844], Loss: 0.6255\n",
      "Epcho [1/5], Step [256/844], Loss: 0.7711\n",
      "Epcho [1/5], Step [512/844], Loss: 0.8772\n",
      "Epcho [1/5], Step [768/844], Loss: 0.2677\n",
      "Epcho [2/5], Step [256/844], Loss: 0.8278\n",
      "Epcho [2/5], Step [512/844], Loss: 0.6913\n",
      "Epcho [2/5], Step [768/844], Loss: 0.7306\n",
      "Epcho [3/5], Step [256/844], Loss: 0.4388\n",
      "Epcho [3/5], Step [512/844], Loss: 0.7705\n",
      "Epcho [3/5], Step [768/844], Loss: 0.3491\n",
      "Epcho [4/5], Step [256/844], Loss: 0.5291\n",
      "Epcho [4/5], Step [512/844], Loss: 0.5115\n",
      "Epcho [4/5], Step [768/844], Loss: 1.2833\n"
     ]
    },
    {
     "name": "stderr",
     "output_type": "stream",
     "text": [
      "[I 2024-11-07 17:28:39,898] Trial 0 finished with value: 0.7641666666666667 and parameters: {'hidden_size': 58, 'batch_size': 64, 'lr': 0.09363608837545294, 'momentum': 0.7751116211930444, 'epochs': 5}. Best is trial 0 with value: 0.7641666666666667.\n",
      " 10%|█         | 1/10 [00:34<05:13, 34.87s/it]"
     ]
    },
    {
     "name": "stdout",
     "output_type": "stream",
     "text": [
      "acc:0.7641666666666667\n",
      "Epcho [0/4], Step [256/844], Loss: 0.4676\n",
      "Epcho [0/4], Step [512/844], Loss: 0.2855\n",
      "Epcho [0/4], Step [768/844], Loss: 0.4662\n",
      "Epcho [1/4], Step [256/844], Loss: 0.2430\n",
      "Epcho [1/4], Step [512/844], Loss: 0.3370\n",
      "Epcho [1/4], Step [768/844], Loss: 0.3057\n",
      "Epcho [2/4], Step [256/844], Loss: 0.4552\n",
      "Epcho [2/4], Step [512/844], Loss: 0.1579\n",
      "Epcho [2/4], Step [768/844], Loss: 0.1917\n",
      "Epcho [3/4], Step [256/844], Loss: 0.2461\n",
      "Epcho [3/4], Step [512/844], Loss: 0.1661\n",
      "Epcho [3/4], Step [768/844], Loss: 0.1831\n"
     ]
    },
    {
     "name": "stderr",
     "output_type": "stream",
     "text": [
      "[I 2024-11-07 17:29:07,231] Trial 1 finished with value: 0.9466666666666667 and parameters: {'hidden_size': 65, 'batch_size': 64, 'lr': 0.017213312890302247, 'momentum': 0.6947199922197161, 'epochs': 4}. Best is trial 1 with value: 0.9466666666666667.\n",
      " 20%|██        | 2/10 [01:02<04:03, 30.44s/it]"
     ]
    },
    {
     "name": "stdout",
     "output_type": "stream",
     "text": [
      "acc:0.9466666666666667\n",
      "Epcho [0/8], Step [256/844], Loss: 0.3906\n",
      "Epcho [0/8], Step [512/844], Loss: 0.2535\n",
      "Epcho [0/8], Step [768/844], Loss: 0.2174\n",
      "Epcho [1/8], Step [256/844], Loss: 0.1446\n",
      "Epcho [1/8], Step [512/844], Loss: 0.2367\n",
      "Epcho [1/8], Step [768/844], Loss: 0.3320\n",
      "Epcho [2/8], Step [256/844], Loss: 0.2609\n",
      "Epcho [2/8], Step [512/844], Loss: 0.1452\n",
      "Epcho [2/8], Step [768/844], Loss: 0.1895\n",
      "Epcho [3/8], Step [256/844], Loss: 0.1076\n",
      "Epcho [3/8], Step [512/844], Loss: 0.2536\n",
      "Epcho [3/8], Step [768/844], Loss: 0.4376\n",
      "Epcho [4/8], Step [256/844], Loss: 0.3061\n",
      "Epcho [4/8], Step [512/844], Loss: 0.2792\n",
      "Epcho [4/8], Step [768/844], Loss: 0.2072\n",
      "Epcho [5/8], Step [256/844], Loss: 0.1160\n",
      "Epcho [5/8], Step [512/844], Loss: 0.2877\n",
      "Epcho [5/8], Step [768/844], Loss: 0.1291\n",
      "Epcho [6/8], Step [256/844], Loss: 0.1961\n",
      "Epcho [6/8], Step [512/844], Loss: 0.1996\n",
      "Epcho [6/8], Step [768/844], Loss: 0.1210\n",
      "Epcho [7/8], Step [256/844], Loss: 0.4517\n",
      "Epcho [7/8], Step [512/844], Loss: 0.2635\n",
      "Epcho [7/8], Step [768/844], Loss: 0.2070\n"
     ]
    },
    {
     "name": "stderr",
     "output_type": "stream",
     "text": [
      "[I 2024-11-07 17:30:01,436] Trial 2 finished with value: 0.943 and parameters: {'hidden_size': 118, 'batch_size': 64, 'lr': 0.06783496989477338, 'momentum': 0.5609595281963902, 'epochs': 8}. Best is trial 1 with value: 0.9466666666666667.\n",
      " 30%|███       | 3/10 [01:56<04:49, 41.29s/it]"
     ]
    },
    {
     "name": "stdout",
     "output_type": "stream",
     "text": [
      "acc:0.943\n",
      "Epcho [0/4], Step [256/844], Loss: 0.4721\n",
      "Epcho [0/4], Step [512/844], Loss: 0.3789\n",
      "Epcho [0/4], Step [768/844], Loss: 0.5104\n",
      "Epcho [1/4], Step [256/844], Loss: 0.4100\n",
      "Epcho [1/4], Step [512/844], Loss: 0.3160\n",
      "Epcho [1/4], Step [768/844], Loss: 0.2389\n",
      "Epcho [2/4], Step [256/844], Loss: 0.4462\n",
      "Epcho [2/4], Step [512/844], Loss: 0.6645\n",
      "Epcho [2/4], Step [768/844], Loss: 0.3019\n",
      "Epcho [3/4], Step [256/844], Loss: 0.4261\n",
      "Epcho [3/4], Step [512/844], Loss: 0.5145\n",
      "Epcho [3/4], Step [768/844], Loss: 0.2485\n"
     ]
    },
    {
     "name": "stderr",
     "output_type": "stream",
     "text": [
      "[I 2024-11-07 17:30:29,098] Trial 3 finished with value: 0.8401666666666666 and parameters: {'hidden_size': 68, 'batch_size': 64, 'lr': 0.04602792461265085, 'momentum': 0.8814288980357559, 'epochs': 4}. Best is trial 1 with value: 0.9466666666666667.\n",
      " 40%|████      | 4/10 [02:24<03:35, 35.91s/it]"
     ]
    },
    {
     "name": "stdout",
     "output_type": "stream",
     "text": [
      "acc:0.8401666666666666\n",
      "Epcho [0/6], Step [256/844], Loss: 0.2775\n",
      "Epcho [0/6], Step [512/844], Loss: 0.3278\n",
      "Epcho [0/6], Step [768/844], Loss: 0.2856\n",
      "Epcho [1/6], Step [256/844], Loss: 0.1650\n",
      "Epcho [1/6], Step [512/844], Loss: 0.3033\n",
      "Epcho [1/6], Step [768/844], Loss: 0.4171\n",
      "Epcho [2/6], Step [256/844], Loss: 0.2250\n",
      "Epcho [2/6], Step [512/844], Loss: 0.2740\n",
      "Epcho [2/6], Step [768/844], Loss: 0.2036\n",
      "Epcho [3/6], Step [256/844], Loss: 0.1410\n",
      "Epcho [3/6], Step [512/844], Loss: 0.2874\n",
      "Epcho [3/6], Step [768/844], Loss: 0.4322\n",
      "Epcho [4/6], Step [256/844], Loss: 0.1674\n",
      "Epcho [4/6], Step [512/844], Loss: 0.1273\n",
      "Epcho [4/6], Step [768/844], Loss: 0.2394\n",
      "Epcho [5/6], Step [256/844], Loss: 0.2204\n",
      "Epcho [5/6], Step [512/844], Loss: 0.1722\n",
      "Epcho [5/6], Step [768/844], Loss: 0.1675\n"
     ]
    },
    {
     "name": "stderr",
     "output_type": "stream",
     "text": [
      "[I 2024-11-07 17:31:10,156] Trial 4 finished with value: 0.9446666666666667 and parameters: {'hidden_size': 94, 'batch_size': 64, 'lr': 0.025435377018633028, 'momentum': 0.698413791161292, 'epochs': 6}. Best is trial 1 with value: 0.9466666666666667.\n",
      " 50%|█████     | 5/10 [03:05<03:08, 37.77s/it]"
     ]
    },
    {
     "name": "stdout",
     "output_type": "stream",
     "text": [
      "acc:0.9446666666666667\n",
      "Epcho [0/5], Step [256/844], Loss: 0.3119\n",
      "Epcho [0/5], Step [512/844], Loss: 0.4392\n",
      "Epcho [0/5], Step [768/844], Loss: 0.3356\n",
      "Epcho [1/5], Step [256/844], Loss: 0.1610\n",
      "Epcho [1/5], Step [512/844], Loss: 0.2271\n",
      "Epcho [1/5], Step [768/844], Loss: 0.2455\n",
      "Epcho [2/5], Step [256/844], Loss: 0.2995\n",
      "Epcho [2/5], Step [512/844], Loss: 0.1524\n",
      "Epcho [2/5], Step [768/844], Loss: 0.1936\n",
      "Epcho [3/5], Step [256/844], Loss: 0.1663\n",
      "Epcho [3/5], Step [512/844], Loss: 0.1625\n",
      "Epcho [3/5], Step [768/844], Loss: 0.1508\n",
      "Epcho [4/5], Step [256/844], Loss: 0.1937\n",
      "Epcho [4/5], Step [512/844], Loss: 0.1477\n",
      "Epcho [4/5], Step [768/844], Loss: 0.3790\n"
     ]
    },
    {
     "name": "stderr",
     "output_type": "stream",
     "text": [
      "[I 2024-11-07 17:31:44,548] Trial 5 finished with value: 0.9356666666666666 and parameters: {'hidden_size': 127, 'batch_size': 64, 'lr': 0.02271215096315039, 'momentum': 0.7951040092645951, 'epochs': 5}. Best is trial 1 with value: 0.9466666666666667.\n",
      " 60%|██████    | 6/10 [03:39<02:26, 36.62s/it]"
     ]
    },
    {
     "name": "stdout",
     "output_type": "stream",
     "text": [
      "acc:0.9356666666666666\n",
      "Epcho [0/8], Step [256/844], Loss: 0.4787\n",
      "Epcho [0/8], Step [512/844], Loss: 0.3965\n",
      "Epcho [0/8], Step [768/844], Loss: 0.4197\n",
      "Epcho [1/8], Step [256/844], Loss: 0.3096\n",
      "Epcho [1/8], Step [512/844], Loss: 0.3284\n",
      "Epcho [1/8], Step [768/844], Loss: 0.3242\n",
      "Epcho [2/8], Step [256/844], Loss: 0.1396\n",
      "Epcho [2/8], Step [512/844], Loss: 0.4161\n",
      "Epcho [2/8], Step [768/844], Loss: 0.2931\n",
      "Epcho [3/8], Step [256/844], Loss: 0.3109\n",
      "Epcho [3/8], Step [512/844], Loss: 0.4898\n",
      "Epcho [3/8], Step [768/844], Loss: 0.2310\n",
      "Epcho [4/8], Step [256/844], Loss: 0.2457\n",
      "Epcho [4/8], Step [512/844], Loss: 0.3042\n",
      "Epcho [4/8], Step [768/844], Loss: 0.2673\n",
      "Epcho [5/8], Step [256/844], Loss: 0.2814\n",
      "Epcho [5/8], Step [512/844], Loss: 0.3122\n",
      "Epcho [5/8], Step [768/844], Loss: 0.2271\n",
      "Epcho [6/8], Step [256/844], Loss: 0.2466\n",
      "Epcho [6/8], Step [512/844], Loss: 0.2513\n",
      "Epcho [6/8], Step [768/844], Loss: 0.2046\n",
      "Epcho [7/8], Step [256/844], Loss: 0.1257\n",
      "Epcho [7/8], Step [512/844], Loss: 0.3649\n",
      "Epcho [7/8], Step [768/844], Loss: 0.3548\n"
     ]
    },
    {
     "name": "stderr",
     "output_type": "stream",
     "text": [
      "[I 2024-11-07 17:32:38,466] Trial 6 finished with value: 0.9075 and parameters: {'hidden_size': 108, 'batch_size': 64, 'lr': 0.0601126226051278, 'momentum': 0.794311341290086, 'epochs': 8}. Best is trial 1 with value: 0.9466666666666667.\n",
      " 70%|███████   | 7/10 [04:33<02:06, 42.27s/it]"
     ]
    },
    {
     "name": "stdout",
     "output_type": "stream",
     "text": [
      "acc:0.9075\n",
      "Epcho [0/4], Step [256/844], Loss: 0.5187\n",
      "Epcho [0/4], Step [512/844], Loss: 0.3345\n",
      "Epcho [0/4], Step [768/844], Loss: 0.2243\n",
      "Epcho [1/4], Step [256/844], Loss: 0.2330\n",
      "Epcho [1/4], Step [512/844], Loss: 0.4510\n",
      "Epcho [1/4], Step [768/844], Loss: 0.2642\n",
      "Epcho [2/4], Step [256/844], Loss: 0.1962\n",
      "Epcho [2/4], Step [512/844], Loss: 0.1550\n",
      "Epcho [2/4], Step [768/844], Loss: 0.2110\n",
      "Epcho [3/4], Step [256/844], Loss: 0.3027\n",
      "Epcho [3/4], Step [512/844], Loss: 0.2255\n",
      "Epcho [3/4], Step [768/844], Loss: 0.1527\n"
     ]
    },
    {
     "name": "stderr",
     "output_type": "stream",
     "text": [
      "[I 2024-11-07 17:33:05,954] Trial 7 finished with value: 0.9066666666666666 and parameters: {'hidden_size': 51, 'batch_size': 64, 'lr': 0.043069068294051355, 'momentum': 0.5138260989824033, 'epochs': 4}. Best is trial 1 with value: 0.9466666666666667.\n",
      " 80%|████████  | 8/10 [05:00<01:15, 37.57s/it]"
     ]
    },
    {
     "name": "stdout",
     "output_type": "stream",
     "text": [
      "acc:0.9066666666666666\n",
      "Epcho [0/10], Step [256/844], Loss: 0.7148\n",
      "Epcho [0/10], Step [512/844], Loss: 0.5283\n",
      "Epcho [0/10], Step [768/844], Loss: 0.2874\n",
      "Epcho [1/10], Step [256/844], Loss: 0.2689\n",
      "Epcho [1/10], Step [512/844], Loss: 0.4881\n",
      "Epcho [1/10], Step [768/844], Loss: 0.3077\n",
      "Epcho [2/10], Step [256/844], Loss: 0.1962\n",
      "Epcho [2/10], Step [512/844], Loss: 0.3512\n",
      "Epcho [2/10], Step [768/844], Loss: 0.3501\n",
      "Epcho [3/10], Step [256/844], Loss: 0.3353\n",
      "Epcho [3/10], Step [512/844], Loss: 0.3423\n",
      "Epcho [3/10], Step [768/844], Loss: 0.2761\n",
      "Epcho [4/10], Step [256/844], Loss: 0.2394\n",
      "Epcho [4/10], Step [512/844], Loss: 0.2994\n",
      "Epcho [4/10], Step [768/844], Loss: 0.3579\n",
      "Epcho [5/10], Step [256/844], Loss: 0.2878\n",
      "Epcho [5/10], Step [512/844], Loss: 0.3021\n",
      "Epcho [5/10], Step [768/844], Loss: 0.2282\n",
      "Epcho [6/10], Step [256/844], Loss: 0.4267\n",
      "Epcho [6/10], Step [512/844], Loss: 0.2937\n",
      "Epcho [6/10], Step [768/844], Loss: 0.3970\n",
      "Epcho [7/10], Step [256/844], Loss: 0.3169\n",
      "Epcho [7/10], Step [512/844], Loss: 0.2981\n",
      "Epcho [7/10], Step [768/844], Loss: 0.2787\n",
      "Epcho [8/10], Step [256/844], Loss: 0.2237\n",
      "Epcho [8/10], Step [512/844], Loss: 0.1656\n",
      "Epcho [8/10], Step [768/844], Loss: 0.1850\n",
      "Epcho [9/10], Step [256/844], Loss: 0.2495\n",
      "Epcho [9/10], Step [512/844], Loss: 0.1745\n",
      "Epcho [9/10], Step [768/844], Loss: 0.2065\n"
     ]
    },
    {
     "name": "stderr",
     "output_type": "stream",
     "text": [
      "[I 2024-11-07 17:34:14,219] Trial 8 finished with value: 0.9376666666666666 and parameters: {'hidden_size': 52, 'batch_size': 64, 'lr': 0.0030028901572230005, 'momentum': 0.7941979293066601, 'epochs': 10}. Best is trial 1 with value: 0.9466666666666667.\n",
      " 90%|█████████ | 9/10 [06:09<00:47, 47.16s/it]"
     ]
    },
    {
     "name": "stdout",
     "output_type": "stream",
     "text": [
      "acc:0.9376666666666666\n",
      "Epcho [0/4], Step [256/844], Loss: 0.2099\n",
      "Epcho [0/4], Step [512/844], Loss: 0.3566\n",
      "Epcho [0/4], Step [768/844], Loss: 0.1543\n",
      "Epcho [1/4], Step [256/844], Loss: 0.2817\n",
      "Epcho [1/4], Step [512/844], Loss: 0.3819\n",
      "Epcho [1/4], Step [768/844], Loss: 0.3301\n",
      "Epcho [2/4], Step [256/844], Loss: 0.2877\n",
      "Epcho [2/4], Step [512/844], Loss: 0.4215\n",
      "Epcho [2/4], Step [768/844], Loss: 0.2570\n",
      "Epcho [3/4], Step [256/844], Loss: 0.3878\n",
      "Epcho [3/4], Step [512/844], Loss: 0.2558\n",
      "Epcho [3/4], Step [768/844], Loss: 0.3839\n"
     ]
    },
    {
     "name": "stderr",
     "output_type": "stream",
     "text": [
      "[I 2024-11-07 17:34:41,483] Trial 9 finished with value: 0.9215 and parameters: {'hidden_size': 85, 'batch_size': 64, 'lr': 0.05818322257556641, 'momentum': 0.7642612519505405, 'epochs': 4}. Best is trial 1 with value: 0.9466666666666667.\n",
      "100%|██████████| 10/10 [06:36<00:00, 41.02s/it]"
     ]
    },
    {
     "name": "stdout",
     "output_type": "stream",
     "text": [
      "acc:0.9215\n",
      "time: 6min 36s (started: 2024-11-07 17:28:05 +08:00)\n"
     ]
    }
   ],
   "source": [
    "from tqdm import tqdm\n",
    "\n",
    "class TqdmCallback(object):\n",
    "    def __init__(self, n_trials):\n",
    "        self.n_trials = n_trials\n",
    "        self.pbar = tqdm(total=n_trials)\n",
    "\n",
    "    def __call__(self, study, trial):\n",
    "        self.pbar.update(1)\n",
    "\n",
    "n_trials = 10\n",
    "tqdm_callback = TqdmCallback(n_trials)\n",
    "study = optuna.create_study(direction='maximize')\n",
    "study.optimize(obj, n_trials=n_trials, callbacks=[tqdm_callback])"
   ]
  },
  {
   "cell_type": "code",
   "execution_count": 11,
   "metadata": {},
   "outputs": [
    {
     "name": "stdout",
     "output_type": "stream",
     "text": [
      "time: 1.8 ms (started: 2024-11-07 17:35:42 +08:00)\n"
     ]
    }
   ],
   "source": [
    "#固定参数\n",
    "input_size = 28 * 28\n",
    "num_classes = 10\n",
    "batch_size = 64\n",
    "#固定掉超参数\n",
    "lr= 0.05818322257556641\n",
    "hidden_size=85\n",
    "momentum=0.7642612519505405\n",
    "epochs=4"
   ]
  },
  {
   "cell_type": "code",
   "execution_count": 12,
   "metadata": {},
   "outputs": [
    {
     "name": "stdout",
     "output_type": "stream",
     "text": [
      "Epoch [1/4], Loss: 0.0818\n",
      "Epoch [2/4], Loss: 0.2056\n",
      "Epoch [3/4], Loss: 0.1554\n",
      "Epoch [4/4], Loss: 0.0102\n",
      "time: 29.3 s (started: 2024-11-07 17:35:44 +08:00)\n"
     ]
    }
   ],
   "source": [
    "#使用完整训练集训练并测试pytorch版\n",
    "import torch.nn as nn\n",
    "train_loader_full = torch.utils.data.DataLoader(train_data_full, batch_size=batch_size, shuffle=True)\n",
    "layer1=nn.Linear(input_size, hidden_size)\n",
    "init.kaiming_normal_(layer1.weight)\n",
    "layer2=nn.Linear(hidden_size, num_classes)\n",
    "init.kaiming_normal_(layer2.weight)\n",
    "model=torch.nn.Sequential(layer1,nn.ReLU(),layer2,nn.LogSoftmax(dim=1)).to(device)\n",
    "\n",
    "optimizer = torch.optim.SGD(model.parameters(), lr=lr, momentum=momentum)\n",
    "criterion = nn.NLLLoss()\n",
    "\n",
    "for epoch in range(epochs):\n",
    "    model.train()\n",
    "    for images, labels in train_loader_full:\n",
    "        images = images.view(-1, 28 * 28).to(device)\n",
    "        labels = labels.to(device)\n",
    "        \n",
    "        outputs = model(images)\n",
    "        loss = criterion(outputs, labels)\n",
    "        \n",
    "        optimizer.zero_grad()\n",
    "        loss.backward()\n",
    "        optimizer.step()\n",
    "        \n",
    "    print(f'Epoch [{epoch+1}/{epochs}], Loss: {loss.item():.4f}')"
   ]
  },
  {
   "cell_type": "code",
   "execution_count": 13,
   "metadata": {},
   "outputs": [
    {
     "name": "stdout",
     "output_type": "stream",
     "text": [
      "acc:0.9583\n",
      "final acc:0.9583\n",
      "time: 1.11 s (started: 2024-11-07 17:36:16 +08:00)\n"
     ]
    }
   ],
   "source": [
    "#使用测试集测试\n",
    "test_loader = torch.utils.data.DataLoader(test_data, batch_size=batch_size, shuffle=False)\n",
    "acc=val_eval(model,test_loader)\n",
    "print(f\"final acc:{acc}\")"
   ]
  },
  {
   "cell_type": "code",
   "execution_count": 45,
   "metadata": {},
   "outputs": [
    {
     "name": "stdout",
     "output_type": "stream",
     "text": [
      "time: 57 ms (started: 2024-11-07 18:14:47 +08:00)\n"
     ]
    }
   ],
   "source": [
    "#基于myTorch进行构建\n",
    "#基于myTorch的dataset导入数据\n",
    "import MyTorch.Dataloader\n",
    "import numpy as np\n",
    "from torchvision import datasets,transforms\n",
    "from PIL  import Image\n",
    "import importlib\n",
    "importlib.reload(MyTorch.Dataloader)\n",
    "importlib.reload(MyTorch.my_nn)\n",
    "importlib.reload(MyTorch.loss_func)\n",
    "importlib.reload(MyTorch.myTensor)\n",
    "#把dataset转为numpy的形式\n",
    "class trans2normalizedNumpy(object):\n",
    "    def __call__(self, img):\n",
    "        np_img=np.array(img)\n",
    "        np_img_flat=np_img.flatten()\n",
    "        #归一化到\n",
    "        np_img_flat = np_img_flat.astype(float)\n",
    "        np_img_flat/=255\n",
    "        return np_img_flat\n",
    "myTensor_transforms = trans2normalizedNumpy()\n",
    "train_data_full = datasets.MNIST(data_dir, train=True, download=True, transform=myTensor_transforms)\n",
    "test_data = datasets.MNIST(data_dir, train=False, download=True, transform=myTensor_transforms)\n",
    "\n",
    "train_dataloader = MyTorch.Dataloader.DataLoader(train_data_full, batch_size=batch_size, shuffle=True)\n",
    "test_data_loader = MyTorch.Dataloader.DataLoader(test_data, batch_size=batch_size, shuffle=False)"
   ]
  },
  {
   "cell_type": "code",
   "execution_count": 46,
   "metadata": {},
   "outputs": [
    {
     "name": "stdout",
     "output_type": "stream",
     "text": [
      "Epoch [1/10], Loss: 0.5016\n",
      "Epoch [2/10], Loss: 0.4083\n",
      "Epoch [3/10], Loss: 0.6258\n",
      "Epoch [4/10], Loss: 0.4067\n",
      "Epoch [5/10], Loss: 0.3322\n",
      "Epoch [6/10], Loss: 0.5318\n",
      "Epoch [7/10], Loss: 0.5812\n",
      "Epoch [8/10], Loss: 0.4305\n",
      "Epoch [9/10], Loss: 0.6970\n",
      "Epoch [10/10], Loss: 0.5107\n",
      "time: 3min 45s (started: 2024-11-07 18:14:49 +08:00)\n"
     ]
    }
   ],
   "source": [
    "from MyTorch import my_nn\n",
    "import MyTorch.loss_func\n",
    "import importlib\n",
    "importlib.reload(MyTorch)\n",
    "#构建model\n",
    "model=my_nn.Sequential(\n",
    "    my_nn.MyLinearLayer(input_size, hidden_size,initial_policy=\"He\"),\n",
    "    my_nn.ReLU(),\n",
    "    my_nn.MyLinearLayer(hidden_size, num_classes,initial_policy=\"He\"),\n",
    "    my_nn.LogSoftmax(dim=1)\n",
    ")\n",
    "\n",
    "# optimizer = MyTorch.optim.SGD(model.parameters, lr=lr, momentum=momentum)\n",
    "optimizer=MyTorch.optim.Adam(model.parameters,lr=lr)\n",
    "criterion = MyTorch.loss_func.NLLLoss()\n",
    "epochs=10\n",
    "for epoch in range(epochs):\n",
    "    for images, labels in train_dataloader:\n",
    "        outputs = model(images)\n",
    "        loss = criterion(outputs, labels)\n",
    "        optimizer.zero_grad()\n",
    "        loss.backward()\n",
    "        optimizer.step()\n",
    "    print(f'Epoch [{epoch+1}/{epochs}], Loss: {loss.data.astype(float):.4f}')"
   ]
  },
  {
   "cell_type": "code",
   "execution_count": 47,
   "metadata": {},
   "outputs": [
    {
     "name": "stdout",
     "output_type": "stream",
     "text": [
      "final acc:0.8581730769230769\n",
      "time: 781 ms (started: 2024-11-07 18:18:37 +08:00)\n"
     ]
    }
   ],
   "source": [
    "#使用测试集测试\n",
    "correct = 0\n",
    "total = 0\n",
    "for images, labels in test_data_loader:\n",
    "    outputs = model(images)\n",
    "    predicted = np.argmax(outputs.data, axis=1,keepdims=True)\n",
    "    total += len(labels.data)\n",
    "    correct += (predicted == labels.data).sum()\n",
    "acc=correct/total\n",
    "print(f\"final acc:{acc}\")"
   ]
  },
  {
   "cell_type": "code",
   "execution_count": null,
   "metadata": {},
   "outputs": [],
   "source": []
  }
 ],
 "metadata": {
  "kernelspec": {
   "display_name": "base",
   "language": "python",
   "name": "python3"
  },
  "language_info": {
   "codemirror_mode": {
    "name": "ipython",
    "version": 3
   },
   "file_extension": ".py",
   "mimetype": "text/x-python",
   "name": "python",
   "nbconvert_exporter": "python",
   "pygments_lexer": "ipython3",
   "version": "3.12.3"
  }
 },
 "nbformat": 4,
 "nbformat_minor": 2
}
