{
 "cells": [
  {
   "cell_type": "code",
   "execution_count": 5,
   "metadata": {},
   "outputs": [
    {
     "ename": "ModuleNotFoundError",
     "evalue": "No module named 'MyTorch'",
     "output_type": "error",
     "traceback": [
      "\u001b[1;31m---------------------------------------------------------------------------\u001b[0m",
      "\u001b[1;31mModuleNotFoundError\u001b[0m                       Traceback (most recent call last)",
      "Cell \u001b[1;32mIn[5], line 9\u001b[0m\n\u001b[0;32m      7\u001b[0m \u001b[38;5;66;03m# 获取上级目录\u001b[39;00m\n\u001b[0;32m      8\u001b[0m parent_dir \u001b[38;5;241m=\u001b[39m os\u001b[38;5;241m.\u001b[39mpath\u001b[38;5;241m.\u001b[39mabspath(os\u001b[38;5;241m.\u001b[39mpath\u001b[38;5;241m.\u001b[39mjoin(current_dir, \u001b[38;5;124m'\u001b[39m\u001b[38;5;124m..\u001b[39m\u001b[38;5;124m'\u001b[39m))\n\u001b[1;32m----> 9\u001b[0m \u001b[38;5;28;01mfrom\u001b[39;00m \u001b[38;5;21;01mMyTorch\u001b[39;00m\u001b[38;5;21;01m.\u001b[39;00m\u001b[38;5;21;01mDataloader\u001b[39;00m \u001b[38;5;28;01mimport\u001b[39;00m mydataLoader\n\u001b[0;32m     10\u001b[0m \u001b[38;5;28;01mfrom\u001b[39;00m \u001b[38;5;21;01msklearn\u001b[39;00m\u001b[38;5;21;01m.\u001b[39;00m\u001b[38;5;21;01mmodel_selection\u001b[39;00m \u001b[38;5;28;01mimport\u001b[39;00m train_test_split\n",
      "\u001b[1;31mModuleNotFoundError\u001b[0m: No module named 'MyTorch'"
     ]
    }
   ],
   "source": [
    "from torchvision import datasets, transforms\n",
    "import os\n",
    "import sys\n",
    "# 获取当前工作目录\n",
    "current_dir = os.getcwd()\n",
    "\n",
    "# 获取上级目录\n",
    "parent_dir = os.path.abspath(os.path.join(current_dir, '..'))\n",
    "print(parent_dir)\n",
    "if parent_dir not in sys.path:\n",
    "    sys.path.insert(0, parent_dir)\n",
    "from MyTorch.Dataloader import mydataLoader\n",
    "from sklearn.model_selection import train_test_split"
   ]
  },
  {
   "cell_type": "code",
   "execution_count": 3,
   "metadata": {},
   "outputs": [],
   "source": [
    "import Dataloader\n",
    "#导入数据集并且做归一化\n",
    "data_dir = \"../../dataset\"\n",
    "if not os.path.exists(data_dir):\n",
    "    os.makedirs(data_dir)\n",
    "data_transforms = transforms.Compose([\n",
    "    transforms.ToTensor(),  # 将图像转换为张量\n",
    "    transforms.Normalize((0.5,), (0.5,)),  # 归一化，均值为0.5，标准差为0.5\n",
    "])\n",
    "\n",
    "# MNIST dataset\n",
    "train_data = datasets.MNIST(data_dir, train=True, download=True, transform=data_transforms)\n",
    "test_data = datasets.MNIST(data_dir, train=False, download=True, transform=data_transforms)\n",
    "\n",
    "train_data, val_data = train_test_split(train_data, test_size=0.2, random_state=42)\n",
    "\n",
    "train_loader = mydataLoader(train_data, batch_size=64, shuffle=True)\n",
    "val_loader = mydataLoader(val_data, batch_size=64, shuffle=False)\n",
    "test_loader = mydataLoader(test_data, batch_size=64, shuffle=False)"
   ]
  },
  {
   "cell_type": "code",
   "execution_count": null,
   "metadata": {},
   "outputs": [],
   "source": [
    "#超参\n",
    "input_size = 784\n",
    "hidden_size = 500\n",
    "num_classes = 10\n",
    "epchos=1000\n",
    "lr=0.01"
   ]
  },
  {
   "cell_type": "code",
   "execution_count": 1,
   "metadata": {},
   "outputs": [
    {
     "ename": "ModuleNotFoundError",
     "evalue": "No module named 'MyTensor'",
     "output_type": "error",
     "traceback": [
      "\u001b[1;31m---------------------------------------------------------------------------\u001b[0m",
      "\u001b[1;31mModuleNotFoundError\u001b[0m                       Traceback (most recent call last)",
      "Cell \u001b[1;32mIn[1], line 1\u001b[0m\n\u001b[1;32m----> 1\u001b[0m \u001b[38;5;28;01mfrom\u001b[39;00m \u001b[38;5;21;01mMyTensor\u001b[39;00m \u001b[38;5;28;01mimport\u001b[39;00m MyTensor\n\u001b[0;32m      2\u001b[0m \u001b[38;5;28;01mfrom\u001b[39;00m \u001b[38;5;21;01mmy_nn\u001b[39;00m \u001b[38;5;28;01mimport\u001b[39;00m MyLinearLayer,ReLU,Softmax,Sequential\n\u001b[0;32m      3\u001b[0m \u001b[38;5;28;01mfrom\u001b[39;00m \u001b[38;5;21;01mloss_func\u001b[39;00m \u001b[38;5;28;01mimport\u001b[39;00m CrossEntropyLoss\n",
      "\u001b[1;31mModuleNotFoundError\u001b[0m: No module named 'MyTensor'"
     ]
    }
   ],
   "source": [
    "from MyTensor import MyTensor\n",
    "from my_nn import MyLinearLayer,ReLU,Softmax,Sequential\n",
    "from loss_func import CrossEntropyLoss\n",
    "from optim import SGD\n",
    "\n",
    "model=Sequential(MyLinearLayer(input_size,hidden_size,initial_policy='He'),ReLU(),MyLinearLayer(hidden_size,num_classes,initial_policy='He'),Softmax())\n",
    "optimizer=SGD(model.parameters(),lr=lr)\n",
    "loss_func=CrossEntropyLoss()\n",
    "for epcho in range(epchos):\n",
    "    for i,(images,labels) in enumerate(train_loader):\n",
    "        images=MyTensor(images.view(images.shape[0],-1))\n",
    "        labels=MyTensor(labels)\n",
    "        optimizer.zero_grad()\n",
    "        outputs=model(images)\n",
    "        loss=loss_func(outputs,labels)\n",
    "        loss.backward()\n",
    "        optimizer.step()\n",
    "        if i%100==0:\n",
    "            print('epcho:{},step:{},loss:{}'.format(epcho,i,loss.item()))\n",
    "    \n",
    "    "
   ]
  }
 ],
 "metadata": {
  "kernelspec": {
   "display_name": "pytor-basic",
   "language": "python",
   "name": "python3"
  },
  "language_info": {
   "codemirror_mode": {
    "name": "ipython",
    "version": 3
   },
   "file_extension": ".py",
   "mimetype": "text/x-python",
   "name": "python",
   "nbconvert_exporter": "python",
   "pygments_lexer": "ipython3",
   "version": "3.11.4"
  }
 },
 "nbformat": 4,
 "nbformat_minor": 2
}
